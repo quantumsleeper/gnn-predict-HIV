{
  "nbformat": 4,
  "nbformat_minor": 0,
  "metadata": {
    "colab": {
      "name": "hands-on-gnn-PyG.ipynb",
      "provenance": [],
      "collapsed_sections": []
    },
    "kernelspec": {
      "name": "python3",
      "display_name": "Python 3"
    },
    "language_info": {
      "name": "python"
    },
    "accelerator": "GPU"
  },
  "cells": [
    {
      "cell_type": "code",
      "execution_count": 1,
      "metadata": {
        "colab": {
          "base_uri": "https://localhost:8080/"
        },
        "id": "tsA9rP_L1oq3",
        "outputId": "a18575dc-1cf0-44cb-af65-282199f7d860"
      },
      "outputs": [
        {
          "output_type": "stream",
          "name": "stdout",
          "text": [
            "1.11.0+cu113\n",
            "11.3\n",
            "/bin/bash: nvdia-smi: command not found\n"
          ]
        }
      ],
      "source": [
        "!python -c \"import torch; print(torch.__version__)\"\n",
        "!python -c \"import torch; print(torch.version.cuda)\"\n",
        "!nvdia-smi"
      ]
    },
    {
      "cell_type": "code",
      "source": [
        "# Installing PyTorch Geometric\n",
        "!pip install torch-scatter -f https://data.pyg.org/whl/torch-1.11.0+cu113.html\n",
        "!pip install torch-sparse -f https://data.pyg.org/whl/torch-1.11.0+cu113.html\n",
        "!pip install torch-geometric"
      ],
      "metadata": {
        "colab": {
          "base_uri": "https://localhost:8080/"
        },
        "id": "WX-rMjpb50dQ",
        "outputId": "2a37c50f-6155-4483-cef7-919fd1439046"
      },
      "execution_count": 2,
      "outputs": [
        {
          "output_type": "stream",
          "name": "stdout",
          "text": [
            "Looking in links: https://data.pyg.org/whl/torch-1.11.0+cu113.html\n",
            "Collecting torch-scatter\n",
            "  Downloading https://data.pyg.org/whl/torch-1.11.0%2Bcu113/torch_scatter-2.0.9-cp37-cp37m-linux_x86_64.whl (7.9 MB)\n",
            "\u001b[K     |████████████████████████████████| 7.9 MB 5.4 MB/s \n",
            "\u001b[?25hInstalling collected packages: torch-scatter\n",
            "Successfully installed torch-scatter-2.0.9\n",
            "Looking in links: https://data.pyg.org/whl/torch-1.11.0+cu113.html\n",
            "Collecting torch-sparse\n",
            "  Downloading https://data.pyg.org/whl/torch-1.11.0%2Bcu113/torch_sparse-0.6.13-cp37-cp37m-linux_x86_64.whl (3.5 MB)\n",
            "\u001b[K     |████████████████████████████████| 3.5 MB 5.5 MB/s \n",
            "\u001b[?25hRequirement already satisfied: scipy in /usr/local/lib/python3.7/dist-packages (from torch-sparse) (1.4.1)\n",
            "Requirement already satisfied: numpy>=1.13.3 in /usr/local/lib/python3.7/dist-packages (from scipy->torch-sparse) (1.21.6)\n",
            "Installing collected packages: torch-sparse\n",
            "Successfully installed torch-sparse-0.6.13\n",
            "Collecting torch-geometric\n",
            "  Downloading torch_geometric-2.0.4.tar.gz (407 kB)\n",
            "\u001b[K     |████████████████████████████████| 407 kB 5.2 MB/s \n",
            "\u001b[?25hRequirement already satisfied: tqdm in /usr/local/lib/python3.7/dist-packages (from torch-geometric) (4.64.0)\n",
            "Requirement already satisfied: numpy in /usr/local/lib/python3.7/dist-packages (from torch-geometric) (1.21.6)\n",
            "Requirement already satisfied: scipy in /usr/local/lib/python3.7/dist-packages (from torch-geometric) (1.4.1)\n",
            "Requirement already satisfied: pandas in /usr/local/lib/python3.7/dist-packages (from torch-geometric) (1.3.5)\n",
            "Requirement already satisfied: jinja2 in /usr/local/lib/python3.7/dist-packages (from torch-geometric) (2.11.3)\n",
            "Requirement already satisfied: requests in /usr/local/lib/python3.7/dist-packages (from torch-geometric) (2.23.0)\n",
            "Requirement already satisfied: pyparsing in /usr/local/lib/python3.7/dist-packages (from torch-geometric) (3.0.8)\n",
            "Requirement already satisfied: scikit-learn in /usr/local/lib/python3.7/dist-packages (from torch-geometric) (1.0.2)\n",
            "Requirement already satisfied: MarkupSafe>=0.23 in /usr/local/lib/python3.7/dist-packages (from jinja2->torch-geometric) (2.0.1)\n",
            "Requirement already satisfied: pytz>=2017.3 in /usr/local/lib/python3.7/dist-packages (from pandas->torch-geometric) (2022.1)\n",
            "Requirement already satisfied: python-dateutil>=2.7.3 in /usr/local/lib/python3.7/dist-packages (from pandas->torch-geometric) (2.8.2)\n",
            "Requirement already satisfied: six>=1.5 in /usr/local/lib/python3.7/dist-packages (from python-dateutil>=2.7.3->pandas->torch-geometric) (1.15.0)\n",
            "Requirement already satisfied: idna<3,>=2.5 in /usr/local/lib/python3.7/dist-packages (from requests->torch-geometric) (2.10)\n",
            "Requirement already satisfied: certifi>=2017.4.17 in /usr/local/lib/python3.7/dist-packages (from requests->torch-geometric) (2021.10.8)\n",
            "Requirement already satisfied: chardet<4,>=3.0.2 in /usr/local/lib/python3.7/dist-packages (from requests->torch-geometric) (3.0.4)\n",
            "Requirement already satisfied: urllib3!=1.25.0,!=1.25.1,<1.26,>=1.21.1 in /usr/local/lib/python3.7/dist-packages (from requests->torch-geometric) (1.24.3)\n",
            "Requirement already satisfied: threadpoolctl>=2.0.0 in /usr/local/lib/python3.7/dist-packages (from scikit-learn->torch-geometric) (3.1.0)\n",
            "Requirement already satisfied: joblib>=0.11 in /usr/local/lib/python3.7/dist-packages (from scikit-learn->torch-geometric) (1.1.0)\n",
            "Building wheels for collected packages: torch-geometric\n",
            "  Building wheel for torch-geometric (setup.py) ... \u001b[?25l\u001b[?25hdone\n",
            "  Created wheel for torch-geometric: filename=torch_geometric-2.0.4-py3-none-any.whl size=616603 sha256=8b27912158f998698cba1e1cfa8b7ffa18427ac2c889a9ef1a909c6af8b42a9d\n",
            "  Stored in directory: /root/.cache/pip/wheels/18/a6/a4/ca18c3051fcead866fe7b85700ee2240d883562a1bc70ce421\n",
            "Successfully built torch-geometric\n",
            "Installing collected packages: torch-geometric\n",
            "Successfully installed torch-geometric-2.0.4\n"
          ]
        }
      ]
    },
    {
      "cell_type": "code",
      "source": [
        "# Installing RDKit \n",
        "!pip install rdkit-pypi"
      ],
      "metadata": {
        "colab": {
          "base_uri": "https://localhost:8080/"
        },
        "id": "pXQOQev46hpy",
        "outputId": "658e2f96-3b4e-45ad-fb01-9925e552e9f7"
      },
      "execution_count": 4,
      "outputs": [
        {
          "output_type": "stream",
          "name": "stdout",
          "text": [
            "Collecting rdkit-pypi\n",
            "  Downloading rdkit_pypi-2022.3.2.1-cp37-cp37m-manylinux_2_17_x86_64.manylinux2014_x86_64.whl (22.7 MB)\n",
            "\u001b[K     |████████████████████████████████| 22.7 MB 1.5 MB/s \n",
            "\u001b[?25hRequirement already satisfied: Pillow in /usr/local/lib/python3.7/dist-packages (from rdkit-pypi) (7.1.2)\n",
            "Requirement already satisfied: numpy in /usr/local/lib/python3.7/dist-packages (from rdkit-pypi) (1.21.6)\n",
            "Installing collected packages: rdkit-pypi\n",
            "Successfully installed rdkit-pypi-2022.3.2.1\n"
          ]
        }
      ]
    },
    {
      "cell_type": "code",
      "source": [
        "import rdkit \n",
        "from torch_geometric.datasets import MoleculeNet \n",
        "\n",
        "data = MoleculeNet(root='./', name=\"ESOL\")\n",
        "data"
      ],
      "metadata": {
        "colab": {
          "base_uri": "https://localhost:8080/"
        },
        "id": "d7xGsGNL6p-X",
        "outputId": "7942b7ef-0f25-40f4-d6f2-bb3c293ae3fd"
      },
      "execution_count": 5,
      "outputs": [
        {
          "output_type": "stream",
          "name": "stderr",
          "text": [
            "Downloading https://deepchemdata.s3-us-west-1.amazonaws.com/datasets/delaney-processed.csv\n",
            "Processing...\n",
            "Done!\n"
          ]
        },
        {
          "output_type": "execute_result",
          "data": {
            "text/plain": [
              "ESOL(1128)"
            ]
          },
          "metadata": {},
          "execution_count": 5
        }
      ]
    },
    {
      "cell_type": "code",
      "source": [
        "# Overview of the dataset and data points \n",
        "\n",
        "print(f\"No. of node-level features: {data.num_features}\")\n",
        "print(f\"No. of edge features: {data.num_edge_features}\")\n",
        "print(f\"No. of targets to predict: {data.num_classes}\")\n",
        "print(f\"Data sample: {data[0]}\")\n",
        "print(f\"No. of nodes in the sample: {data[0].num_nodes}\")\n",
        "print(f\"No. of edges in the sample: {data[0].num_edges}\")\n"
      ],
      "metadata": {
        "colab": {
          "base_uri": "https://localhost:8080/"
        },
        "id": "Zobmjn718Cf3",
        "outputId": "184141b3-0a0f-43ec-e407-a9b7baba7b9a"
      },
      "execution_count": 8,
      "outputs": [
        {
          "output_type": "stream",
          "name": "stdout",
          "text": [
            "No. of node-level features: 9\n",
            "No. of edge features: 3\n",
            "No. of targets to predict: 734\n",
            "Data sample: Data(x=[32, 9], edge_index=[2, 68], edge_attr=[68, 3], y=[1, 1], smiles='OCC3OC(OCC2OC(OC(C#N)c1ccccc1)C(O)C(O)C2O)C(O)C(O)C3O ')\n",
            "No. of nodes in the sample: 32\n",
            "No. of edges in the sample: 68\n"
          ]
        }
      ]
    },
    {
      "cell_type": "code",
      "source": [
        "data[0].x   # will output a tensor of size (num_nodes, num_features)"
      ],
      "metadata": {
        "colab": {
          "base_uri": "https://localhost:8080/"
        },
        "id": "6zy86bvp-KW0",
        "outputId": "a68f2601-6b6e-4dba-cd91-87405153449b"
      },
      "execution_count": 9,
      "outputs": [
        {
          "output_type": "execute_result",
          "data": {
            "text/plain": [
              "tensor([[8, 0, 2, 5, 1, 0, 4, 0, 0],\n",
              "        [6, 0, 4, 5, 2, 0, 4, 0, 0],\n",
              "        [6, 0, 4, 5, 1, 0, 4, 0, 1],\n",
              "        [8, 0, 2, 5, 0, 0, 4, 0, 1],\n",
              "        [6, 0, 4, 5, 1, 0, 4, 0, 1],\n",
              "        [8, 0, 2, 5, 0, 0, 4, 0, 0],\n",
              "        [6, 0, 4, 5, 2, 0, 4, 0, 0],\n",
              "        [6, 0, 4, 5, 1, 0, 4, 0, 1],\n",
              "        [8, 0, 2, 5, 0, 0, 4, 0, 1],\n",
              "        [6, 0, 4, 5, 1, 0, 4, 0, 1],\n",
              "        [8, 0, 2, 5, 0, 0, 4, 0, 0],\n",
              "        [6, 0, 4, 5, 1, 0, 4, 0, 0],\n",
              "        [6, 0, 2, 5, 0, 0, 2, 0, 0],\n",
              "        [7, 0, 1, 5, 0, 0, 2, 0, 0],\n",
              "        [6, 0, 3, 5, 0, 0, 3, 1, 1],\n",
              "        [6, 0, 3, 5, 1, 0, 3, 1, 1],\n",
              "        [6, 0, 3, 5, 1, 0, 3, 1, 1],\n",
              "        [6, 0, 3, 5, 1, 0, 3, 1, 1],\n",
              "        [6, 0, 3, 5, 1, 0, 3, 1, 1],\n",
              "        [6, 0, 3, 5, 1, 0, 3, 1, 1],\n",
              "        [6, 0, 4, 5, 1, 0, 4, 0, 1],\n",
              "        [8, 0, 2, 5, 1, 0, 4, 0, 0],\n",
              "        [6, 0, 4, 5, 1, 0, 4, 0, 1],\n",
              "        [8, 0, 2, 5, 1, 0, 4, 0, 0],\n",
              "        [6, 0, 4, 5, 1, 0, 4, 0, 1],\n",
              "        [8, 0, 2, 5, 1, 0, 4, 0, 0],\n",
              "        [6, 0, 4, 5, 1, 0, 4, 0, 1],\n",
              "        [8, 0, 2, 5, 1, 0, 4, 0, 0],\n",
              "        [6, 0, 4, 5, 1, 0, 4, 0, 1],\n",
              "        [8, 0, 2, 5, 1, 0, 4, 0, 0],\n",
              "        [6, 0, 4, 5, 1, 0, 4, 0, 1],\n",
              "        [8, 0, 2, 5, 1, 0, 4, 0, 0]])"
            ]
          },
          "metadata": {},
          "execution_count": 9
        }
      ]
    },
    {
      "cell_type": "code",
      "source": [
        "# Edges in sparse COO format. Better than adj. matrix in terms of space \n",
        "# Outputs a tensor of size (2, num_edges)\n",
        "# (A, B) --> Node A is connected to Node B\n",
        "data[0].edge_index.t()"
      ],
      "metadata": {
        "colab": {
          "base_uri": "https://localhost:8080/"
        },
        "id": "tvBQ5FMv_QUt",
        "outputId": "bd2d1b70-53a6-49d6-f41a-e46728baf673"
      },
      "execution_count": 10,
      "outputs": [
        {
          "output_type": "execute_result",
          "data": {
            "text/plain": [
              "tensor([[ 0,  1],\n",
              "        [ 1,  0],\n",
              "        [ 1,  2],\n",
              "        [ 2,  1],\n",
              "        [ 2,  3],\n",
              "        [ 2, 30],\n",
              "        [ 3,  2],\n",
              "        [ 3,  4],\n",
              "        [ 4,  3],\n",
              "        [ 4,  5],\n",
              "        [ 4, 26],\n",
              "        [ 5,  4],\n",
              "        [ 5,  6],\n",
              "        [ 6,  5],\n",
              "        [ 6,  7],\n",
              "        [ 7,  6],\n",
              "        [ 7,  8],\n",
              "        [ 7, 24],\n",
              "        [ 8,  7],\n",
              "        [ 8,  9],\n",
              "        [ 9,  8],\n",
              "        [ 9, 10],\n",
              "        [ 9, 20],\n",
              "        [10,  9],\n",
              "        [10, 11],\n",
              "        [11, 10],\n",
              "        [11, 12],\n",
              "        [11, 14],\n",
              "        [12, 11],\n",
              "        [12, 13],\n",
              "        [13, 12],\n",
              "        [14, 11],\n",
              "        [14, 15],\n",
              "        [14, 19],\n",
              "        [15, 14],\n",
              "        [15, 16],\n",
              "        [16, 15],\n",
              "        [16, 17],\n",
              "        [17, 16],\n",
              "        [17, 18],\n",
              "        [18, 17],\n",
              "        [18, 19],\n",
              "        [19, 14],\n",
              "        [19, 18],\n",
              "        [20,  9],\n",
              "        [20, 21],\n",
              "        [20, 22],\n",
              "        [21, 20],\n",
              "        [22, 20],\n",
              "        [22, 23],\n",
              "        [22, 24],\n",
              "        [23, 22],\n",
              "        [24,  7],\n",
              "        [24, 22],\n",
              "        [24, 25],\n",
              "        [25, 24],\n",
              "        [26,  4],\n",
              "        [26, 27],\n",
              "        [26, 28],\n",
              "        [27, 26],\n",
              "        [28, 26],\n",
              "        [28, 29],\n",
              "        [28, 30],\n",
              "        [29, 28],\n",
              "        [30,  2],\n",
              "        [30, 28],\n",
              "        [30, 31],\n",
              "        [31, 30]])"
            ]
          },
          "metadata": {},
          "execution_count": 10
        }
      ]
    },
    {
      "cell_type": "code",
      "source": [
        "data[0].y"
      ],
      "metadata": {
        "colab": {
          "base_uri": "https://localhost:8080/"
        },
        "id": "IYgqBkVxAV2b",
        "outputId": "7ec053f6-6712-4761-ece1-adc2479d34e4"
      },
      "execution_count": 11,
      "outputs": [
        {
          "output_type": "execute_result",
          "data": {
            "text/plain": [
              "tensor([[-0.7700]])"
            ]
          },
          "metadata": {},
          "execution_count": 11
        }
      ]
    },
    {
      "cell_type": "code",
      "source": [
        "data[0][\"smiles\"]"
      ],
      "metadata": {
        "colab": {
          "base_uri": "https://localhost:8080/",
          "height": 35
        },
        "id": "iYvS5ZFqAf34",
        "outputId": "9d5478a8-3d6b-48fa-d99c-d1f0fb27a51c"
      },
      "execution_count": 12,
      "outputs": [
        {
          "output_type": "execute_result",
          "data": {
            "text/plain": [
              "'OCC3OC(OCC2OC(OC(C#N)c1ccccc1)C(O)C(O)C2O)C(O)C(O)C3O '"
            ],
            "application/vnd.google.colaboratory.intrinsic+json": {
              "type": "string"
            }
          },
          "metadata": {},
          "execution_count": 12
        }
      ]
    },
    {
      "cell_type": "code",
      "source": [
        "from rdkit import Chem \n",
        "from rdkit.Chem.Draw import IPythonConsole\n",
        "molecule = Chem.MolFromSmiles(data[0][\"smiles\"])\n",
        "molecule"
      ],
      "metadata": {
        "colab": {
          "base_uri": "https://localhost:8080/",
          "height": 167
        },
        "id": "-bTThDM4ChnT",
        "outputId": "f498dad3-aa11-46fc-a154-c4fcbefed64f"
      },
      "execution_count": 13,
      "outputs": [
        {
          "output_type": "execute_result",
          "data": {
            "text/plain": [
              "<rdkit.Chem.rdchem.Mol at 0x7fa65b2e8e40>"
            ],
            "image/png": "[encoded data removed]"
          },
          "metadata": {},
          "execution_count": 13
        }
      ]
    },
    {
      "cell_type": "code",
      "source": [
        "config = {\n",
        "    'EMBEDDING_SIZE': 64,\n",
        "    'NUM_GRAPHS_PER_BATCH': 64,\n",
        "    'NUM_EPOCHS': 2000,\n",
        "    'LOAD_MODEL': True\n",
        "}"
      ],
      "metadata": {
        "id": "J7AHwpvXTYIc"
      },
      "execution_count": 23,
      "outputs": []
    },
    {
      "cell_type": "code",
      "source": [
        "from torch.nn import parameter\n",
        "import torch \n",
        "import torch.nn as nn \n",
        "import torch.nn.functional as F \n",
        "import torch_geometric.nn as gnn\n",
        "\n",
        "\n",
        "class GCN(nn.Module):\n",
        "  def __init__(self):\n",
        "    super().__init__()\n",
        "    torch.manual_seed(42)\n",
        "\n",
        "    self.initial_conv = gnn.GCNConv(data.num_features, config['EMBEDDING_SIZE'])\n",
        "    self.conv1 = gnn.GCNConv(config['EMBEDDING_SIZE'], config['EMBEDDING_SIZE'])\n",
        "    self.conv2 = gnn.GCNConv(config['EMBEDDING_SIZE'], config['EMBEDDING_SIZE'])\n",
        "    self.conv3 = gnn.GCNConv(config['EMBEDDING_SIZE'], config['EMBEDDING_SIZE'])\n",
        "\n",
        "    self.output = nn.Linear(config['EMBEDDING_SIZE']*2, 1)\n",
        "\n",
        "  def forward(self, node_features, edge_index, batch_index):\n",
        "    x = self.initial_conv(node_features, edge_index)\n",
        "    x = F.tanh(x)\n",
        "    x = self.conv1(x, edge_index)\n",
        "    x = F.tanh(x)\n",
        "    x = self.conv2(x, edge_index)\n",
        "    x = F.tanh(x)\n",
        "    x = self.conv3(x, edge_index)\n",
        "    x = F.tanh(x)\n",
        "\n",
        "    # Global Pooling (stacking different aggregations)\n",
        "    x = torch.cat((gnn.global_max_pool(x, batch_index),\n",
        "                   gnn.global_mean_pool(x, batch_index)), dim=1)\n",
        "    out = self.output(x)\n",
        "\n",
        "    return out, x\n",
        "\n",
        "model = GCN()\n",
        "print(model)\n",
        "print(f\"Number of parameters: {sum(p.numel() for p in model.parameters())}\")"
      ],
      "metadata": {
        "colab": {
          "base_uri": "https://localhost:8080/"
        },
        "id": "LusBRPHLDFZm",
        "outputId": "888898fd-2141-4591-914d-423b63a62fb6"
      },
      "execution_count": 22,
      "outputs": [
        {
          "output_type": "stream",
          "name": "stdout",
          "text": [
            "GCN(\n",
            "  (initial_conv): GCNConv(9, 64)\n",
            "  (conv1): GCNConv(64, 64)\n",
            "  (conv2): GCNConv(64, 64)\n",
            "  (conv3): GCNConv(64, 64)\n",
            "  (output): Linear(in_features=128, out_features=1, bias=True)\n",
            ")\n",
            "Number of parameters: 13249\n"
          ]
        }
      ]
    },
    {
      "cell_type": "code",
      "source": [
        "def save_checkpoint(state, filename=\"my_checkpoint.pt\"):\n",
        "  print(\"===> Saving Checkpoint\")\n",
        "  torch.save(state, filename)\n",
        "\n",
        "def load_checkpoint(checkpoint): \n",
        "  print(\"===> Loading Checkpoint\")\n",
        "  model.load_state_dict(checkpoint['model_state_dict'])\n",
        "  optimizer.load_state_dict(checkpoint['optimizer_state_dict'])"
      ],
      "metadata": {
        "id": "P3ZIoeKbsCNr"
      },
      "execution_count": 26,
      "outputs": []
    },
    {
      "cell_type": "code",
      "source": [
        "from torch_geometric.data import DataLoader   # for batching \n",
        "import warnings \n",
        "warnings.filterwarnings(\"ignore\")\n",
        "\n",
        "loss_fn = nn.MSELoss()\n",
        "optimizer = torch.optim.Adam(model.parameters(), lr=0.001)\n",
        "\n",
        "device = torch.device('cuda:0' if torch.cuda.is_available() else 'cpu')\n",
        "model = model.to(device)\n",
        "\n",
        "data_size = len(data)\n",
        "train_loader = DataLoader(data[:int(data_size*0.8)], \n",
        "                          batch_size=config[\"NUM_GRAPHS_PER_BATCH\"],\n",
        "                          shuffle=True)\n",
        "test_loader = DataLoader(data[int(data_size*0.8):], \n",
        "                         batch_size=config[\"NUM_GRAPHS_PER_BATCH\"],\n",
        "                         shuffle=True)\n",
        "\n",
        "# if config[\"LOAD_MODEL\"]: \n",
        "#   load_checkpoint(torch.load('my_checkpoint.pt'))\n",
        "\n",
        "\n",
        "def train(data): \n",
        "  for batch in train_loader:\n",
        "    batch.to(device)\n",
        "    optimizer.zero_grad()   # Resets gradients of tensors to zero\n",
        "    pred, embedding = model.forward(batch.x.float(), batch.edge_index, batch.batch)\n",
        "    loss = torch.sqrt(loss_fn(pred, batch.y))  \n",
        "    loss.backward()\n",
        "    optimizer.step()   # Parameter update \n",
        "\n",
        "  return loss, embedding \n",
        "\n",
        "\n",
        "print(\"Starting training...\")\n",
        "losses = []\n",
        "for epoch in range(config[\"NUM_EPOCHS\"]):\n",
        "  checkpoint = {\n",
        "    'epoch': epoch,\n",
        "    'model_state_dict': model.state_dict(), \n",
        "    'optimizer_state_dict': optimizer.state_dict(), \n",
        "    }\n",
        "  \n",
        "  if epoch % 200 == 0: \n",
        "    save_checkpoint(checkpoint)\n",
        "\n",
        "  loss, embedding = train(data)\n",
        "  losses.append(loss)\n",
        "  if epoch % 100 == 0: \n",
        "    print(f\"Epoch {epoch} | Train loss = {loss}\")"
      ],
      "metadata": {
        "colab": {
          "base_uri": "https://localhost:8080/"
        },
        "id": "ecOyKv04Op3q",
        "outputId": "82cba68d-c73a-4c04-be63-56a11c47b447"
      },
      "execution_count": 28,
      "outputs": [
        {
          "output_type": "stream",
          "name": "stdout",
          "text": [
            "Starting training...\n",
            "===> Saving Checkpoint\n",
            "Epoch 0 | Train loss = 2.9266717433929443\n",
            "Epoch 100 | Train loss = 0.9369504451751709\n",
            "===> Saving Checkpoint\n",
            "Epoch 200 | Train loss = 0.8811594247817993\n",
            "Epoch 300 | Train loss = 0.5988532900810242\n",
            "===> Saving Checkpoint\n",
            "Epoch 400 | Train loss = 0.28482210636138916\n",
            "Epoch 500 | Train loss = 0.3368696868419647\n",
            "===> Saving Checkpoint\n",
            "Epoch 600 | Train loss = 0.3024764955043793\n",
            "Epoch 700 | Train loss = 0.19559386372566223\n",
            "===> Saving Checkpoint\n",
            "Epoch 800 | Train loss = 0.20784752070903778\n",
            "Epoch 900 | Train loss = 0.4331372380256653\n",
            "===> Saving Checkpoint\n",
            "Epoch 1000 | Train loss = 0.1777576357126236\n",
            "Epoch 1100 | Train loss = 0.3251246213912964\n",
            "===> Saving Checkpoint\n",
            "Epoch 1200 | Train loss = 0.1254497617483139\n",
            "Epoch 1300 | Train loss = 0.15926465392112732\n",
            "===> Saving Checkpoint\n",
            "Epoch 1400 | Train loss = 0.27474841475486755\n",
            "Epoch 1500 | Train loss = 0.21748235821723938\n",
            "===> Saving Checkpoint\n",
            "Epoch 1600 | Train loss = 0.10190548002719879\n",
            "Epoch 1700 | Train loss = 0.09306524693965912\n",
            "===> Saving Checkpoint\n",
            "Epoch 1800 | Train loss = 0.18334361910820007\n",
            "Epoch 1900 | Train loss = 0.2191612422466278\n"
          ]
        }
      ]
    },
    {
      "cell_type": "code",
      "source": [
        "import seaborn as sns \n",
        "losses_f = [float(loss.cpu().detach().numpy()) for loss in losses]\n",
        "loss_idx = [i for i in range(len(losses))]\n",
        "sns.lineplot(loss_idx, losses_f)"
      ],
      "metadata": {
        "colab": {
          "base_uri": "https://localhost:8080/",
          "height": 283
        },
        "id": "scjMBOVquHqk",
        "outputId": "4050995a-e7b4-4b48-8750-5575fcfdc695"
      },
      "execution_count": 32,
      "outputs": [
        {
          "output_type": "execute_result",
          "data": {
            "text/plain": [
              "<matplotlib.axes._subplots.AxesSubplot at 0x7fa651cdef90>"
            ]
          },
          "metadata": {},
          "execution_count": 32
        },
        {
          "output_type": "display_data",
          "data": {
            "text/plain": [
              "<Figure size 432x288 with 1 Axes>"
            ],
            "image/png": "[encoded data removed]"
          },
          "metadata": {
            "needs_background": "light"
          }
        }
      ]
    },
    {
      "cell_type": "code",
      "source": [
        ""
      ],
      "metadata": {
        "id": "VxJ-RAoKx6DV"
      },
      "execution_count": null,
      "outputs": []
    }
  ]
}